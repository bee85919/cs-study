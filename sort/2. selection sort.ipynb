{
 "cells": [
  {
   "cell_type": "markdown",
   "metadata": {},
   "source": [
    "### 2.1. 선택 정렬 (Selection Sort)"
   ]
  },
  {
   "cell_type": "markdown",
   "metadata": {},
   "source": [
    "선택 정렬은 정렬이 된 부분과 정렬이 되지 않은 부분을 나눈다. 정렬이 되지 않은 부분의 첫 요소와 나머지 요소를 비교한다.\n",
    "\n",
    "첫 요소 보다 작은 요소가 있으면 그 요소와 나머지 요소들을 비교한다. 인덱스를 갱신하는 방법으로 진행한다.\n",
    "\n",
    "첫번째 선택 정렬에서 가장 작은 요소가 왼쪽 끝으로 이동된다. 이 과정을 `n-1`번 반복한다."
   ]
  },
  {
   "cell_type": "markdown",
   "metadata": {},
   "source": [
    "장점: 구현이 쉽다.\n",
    "\n",
    "단점: 시간이 오래걸린다. `O(N^2)`"
   ]
  },
  {
   "cell_type": "code",
   "execution_count": 6,
   "metadata": {},
   "outputs": [],
   "source": [
    "a = []\n",
    "n = len(a) \n",
    "for i in range(n):\n",
    "    m = i\n",
    "    for j in range(i+1, n):\n",
    "        if a[m] > a[j]:\n",
    "            m = j\n",
    "    a[i], a[m] = a[m], a[i]"
   ]
  },
  {
   "cell_type": "markdown",
   "metadata": {},
   "source": [
    "### 2.2. 선택 정렬 실습"
   ]
  },
  {
   "cell_type": "code",
   "execution_count": 16,
   "metadata": {},
   "outputs": [
    {
     "name": "stdout",
     "output_type": "stream",
     "text": [
      "Sort: [5, 3, 4, 2, 1]\n",
      "1: [5, 3, 4, 2, 1] → [1, 3, 4, 2, 5]\n",
      "2: [1, 3, 4, 2, 5] → [1, 2, 4, 3, 5]\n",
      "3: [1, 2, 4, 3, 5] → [1, 2, 3, 4, 5]\n",
      "4: [1, 2, 3, 4, 5] → [1, 2, 3, 4, 5]\n",
      "5: [1, 2, 3, 4, 5] → [1, 2, 3, 4, 5]\n"
     ]
    }
   ],
   "source": [
    "a = [5, 3, 4, 2, 1]\n",
    "n = len(a)\n",
    "print(f'Sort: {a}')\n",
    "for i in range(n):\n",
    "    m = i\n",
    "    _m, _a = i, a[:]\n",
    "    for j in range(i+1, n):\n",
    "        if a[m] > a[j]:\n",
    "            m = j\n",
    "    if m != _m:\n",
    "        a[i], a[m] = a[m], a[i]\n",
    "    print(f'{i+1}: {_a} → {a}')"
   ]
  },
  {
   "cell_type": "code",
   "execution_count": null,
   "metadata": {},
   "outputs": [],
   "source": []
  }
 ],
 "metadata": {
  "kernelspec": {
   "display_name": "yeardream",
   "language": "python",
   "name": "python3"
  },
  "language_info": {
   "codemirror_mode": {
    "name": "ipython",
    "version": 3
   },
   "file_extension": ".py",
   "mimetype": "text/x-python",
   "name": "python",
   "nbconvert_exporter": "python",
   "pygments_lexer": "ipython3",
   "version": "3.10.9"
  }
 },
 "nbformat": 4,
 "nbformat_minor": 2
}
