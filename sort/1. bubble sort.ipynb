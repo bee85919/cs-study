{
 "cells": [
  {
   "cell_type": "markdown",
   "metadata": {},
   "source": [
    "### 1.1. 버블 정렬 (Bubble sort)"
   ]
  },
  {
   "cell_type": "markdown",
   "metadata": {},
   "source": [
    "왼쪽에서 오른쪽으로 두개씩 크기를 비교하고, 큰 요소를 오른쪽으로 이동시킨다.\n",
    "\n",
    "첫번째 버블 정렬에서 가장 큰 요소가 오른쪽 끝으로 이동된다. 이 과정을 `n-1`번 반복한다."
   ]
  },
  {
   "cell_type": "markdown",
   "metadata": {},
   "source": [
    "장점: 구현이 쉽다.\n",
    "\n",
    "단점: 시간이 오래 걸리고 비효율적이다. `O(N^2)`"
   ]
  },
  {
   "cell_type": "code",
   "execution_count": 8,
   "metadata": {},
   "outputs": [],
   "source": [
    "a = []\n",
    "n = len(a)\n",
    "for i in range(n):\n",
    "    for j in range(n-i-1):\n",
    "        if a[j] > a[j+1]:\n",
    "            a[j], a[j+1] = a[j+1], a[j]"
   ]
  },
  {
   "cell_type": "markdown",
   "metadata": {},
   "source": [
    "### 1.2. 버블 정렬 실습"
   ]
  },
  {
   "cell_type": "code",
   "execution_count": 5,
   "metadata": {},
   "outputs": [
    {
     "name": "stdout",
     "output_type": "stream",
     "text": [
      "Sort: [5, 3, 4, 2, 1]\n",
      "1: [5, 3, 4, 2, 1] → [3, 5, 4, 2, 1]\n",
      "1: [5, 3, 4, 2, 1] → [3, 4, 5, 2, 1]\n",
      "1: [5, 3, 4, 2, 1] → [3, 4, 2, 5, 1]\n",
      "1: [5, 3, 4, 2, 1] → [3, 4, 2, 1, 5]\n",
      "2: [3, 4, 2, 1, 5] → [3, 4, 2, 1, 5]\n",
      "2: [3, 4, 2, 1, 5] → [3, 2, 4, 1, 5]\n",
      "2: [3, 4, 2, 1, 5] → [3, 2, 1, 4, 5]\n",
      "3: [3, 2, 1, 4, 5] → [2, 3, 1, 4, 5]\n",
      "3: [3, 2, 1, 4, 5] → [2, 1, 3, 4, 5]\n",
      "4: [2, 1, 3, 4, 5] → [1, 2, 3, 4, 5]\n"
     ]
    }
   ],
   "source": [
    "a = [5, 3, 4, 2, 1]\n",
    "n = len(a)\n",
    "print(f'Sort: {a}')\n",
    "for i in range(n):\n",
    "    s = False\n",
    "    _a = a[:]\n",
    "    for j in range((n-i-1)):\n",
    "        if a[j] > a[j+1]:\n",
    "            a[j], a[j+1] = a[j+1], a[j]\n",
    "            s = True\n",
    "        print(f'{i+1}: {_a} → {a}')            \n",
    "                \n",
    "    if s == False:\n",
    "        break"
   ]
  },
  {
   "cell_type": "code",
   "execution_count": null,
   "metadata": {},
   "outputs": [],
   "source": []
  }
 ],
 "metadata": {
  "kernelspec": {
   "display_name": "py311",
   "language": "python",
   "name": "python3"
  },
  "language_info": {
   "codemirror_mode": {
    "name": "ipython",
    "version": 3
   },
   "file_extension": ".py",
   "mimetype": "text/x-python",
   "name": "python",
   "nbconvert_exporter": "python",
   "pygments_lexer": "ipython3",
   "version": "3.11.6"
  }
 },
 "nbformat": 4,
 "nbformat_minor": 2
}
