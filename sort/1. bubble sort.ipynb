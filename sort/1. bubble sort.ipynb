{
 "cells": [
  {
   "cell_type": "markdown",
   "metadata": {},
   "source": [
    "### 1. 버블 정렬 (Bubble sort)"
   ]
  },
  {
   "cell_type": "markdown",
   "metadata": {},
   "source": [
    "왼쪽에서 오른쪽으로 두개씩 크기를 비교하고, 큰 요소를 오른쪽으로 이동시킨다.\n",
    "\n",
    "첫번째 버블 정렬에서 가장 큰 요소가 오른쪽 끝으로 이동된다. 이 과정을 `n-1`번 반복한다."
   ]
  },
  {
   "cell_type": "markdown",
   "metadata": {},
   "source": [
    "장점: 구현이 쉽다.\n",
    "\n",
    "단점: 시간이 오래 걸리고 비효율적이다. `O(N^2)`"
   ]
  },
  {
   "cell_type": "code",
   "execution_count": 8,
   "metadata": {},
   "outputs": [],
   "source": [
    "a = [4, 3, 2, 1]\n",
    "n = len(a)\n",
    "for i in range(n):\n",
    "    for j in range(n-i-1):\n",
    "        if a[j] > a[j+1]:\n",
    "            a[j], a[j+1] = a[j+1], a[j]"
   ]
  },
  {
   "cell_type": "markdown",
   "metadata": {},
   "source": [
    "### 2. 버블 정렬 실습"
   ]
  },
  {
   "cell_type": "code",
   "execution_count": 4,
   "metadata": {},
   "outputs": [
    {
     "name": "stdout",
     "output_type": "stream",
     "text": [
      "Sort: [3, 4, 2, 1]\n",
      "1: [3, 4, 2, 1] → [3, 2, 1, 4]\n",
      "2: [3, 2, 1, 4] → [2, 1, 3, 4]\n",
      "3: [2, 1, 3, 4] → [1, 2, 3, 4]\n"
     ]
    }
   ],
   "source": [
    "a = [3, 4, 2, 1]\n",
    "n = len(a)\n",
    "\n",
    "print(f'Sort: {a}')\n",
    "for i in range(n):\n",
    "    s = False\n",
    "    _a = a[:]\n",
    "    for j in range((n-i-1)):\n",
    "        if a[j] > a[j+1]:\n",
    "            a[j], a[j+1] = a[j+1], a[j]\n",
    "            s = True\n",
    "            if j == n-i-2:\n",
    "                print(f'{i+1}: {_a} → {a}')            \n",
    "    if s == False:\n",
    "        break"
   ]
  }
 ],
 "metadata": {
  "kernelspec": {
   "display_name": "py311",
   "language": "python",
   "name": "python3"
  },
  "language_info": {
   "codemirror_mode": {
    "name": "ipython",
    "version": 3
   },
   "file_extension": ".py",
   "mimetype": "text/x-python",
   "name": "python",
   "nbconvert_exporter": "python",
   "pygments_lexer": "ipython3",
   "version": "3.11.6"
  }
 },
 "nbformat": 4,
 "nbformat_minor": 2
}
