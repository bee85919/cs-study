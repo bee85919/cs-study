{
 "cells": [
  {
   "cell_type": "code",
   "execution_count": 5,
   "metadata": {},
   "outputs": [],
   "source": [
    "def binary_search(arr, L, R, target):\n",
    "    if R >= L:        \n",
    "        mid_idx = L+(R-L)//2\n",
    "        mid = arr[mid_idx]\n",
    "        if mid == target:\n",
    "            return mid_idx        \n",
    "        elif mid > target:\n",
    "            return binary_search(arr, L, mid_idx-1, target)\n",
    "        else:\n",
    "            return binary_search(arr, mid_idx+1, R, target)    \n",
    "    else:\n",
    "        return -1"
   ]
  },
  {
   "cell_type": "code",
   "execution_count": 6,
   "metadata": {},
   "outputs": [
    {
     "name": "stdout",
     "output_type": "stream",
     "text": [
      "target index: 3\n"
     ]
    }
   ],
   "source": [
    "arr = [2, 3, 4, 10, 40]\n",
    "target = 10\n",
    "ans = binary_search(arr, 0, len(arr)-1, target)\n",
    "print('target index:', ans if ans != -1 else 'err')"
   ]
  },
  {
   "cell_type": "code",
   "execution_count": null,
   "metadata": {},
   "outputs": [],
   "source": []
  }
 ],
 "metadata": {
  "kernelspec": {
   "display_name": "yeardream",
   "language": "python",
   "name": "python3"
  },
  "language_info": {
   "codemirror_mode": {
    "name": "ipython",
    "version": 3
   },
   "file_extension": ".py",
   "mimetype": "text/x-python",
   "name": "python",
   "nbconvert_exporter": "python",
   "pygments_lexer": "ipython3",
   "version": "3.10.9"
  }
 },
 "nbformat": 4,
 "nbformat_minor": 2
}
