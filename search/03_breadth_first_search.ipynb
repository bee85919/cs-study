{
 "cells": [
  {
   "cell_type": "code",
   "execution_count": 2,
   "metadata": {},
   "outputs": [],
   "source": [
    "# Python3 Program to print BFS traversal\n",
    "# from a given source vertex. BFS(int s)\n",
    "# traverses vertices reachable from s.\n",
    "\n",
    "from collections import defaultdict\n",
    "\n",
    "\n",
    "# This class represents a directed graph\n",
    "class Graph:\n",
    "\tdef __init__(self):\n",
    "\t\tself.graph = defaultdict(list)\n",
    "\n",
    "\tdef addEdge(self, u, v):\n",
    "\t\tself.graph[u].append(v)\n",
    "\n",
    "\tdef BFS(self, s):\n",
    "\t\tvisited = [False] * (max(self.graph) + 1)\n",
    "\t\tqueue = []\n",
    "\t\tqueue.append(s)\n",
    "\t\tvisited[s] = True\n",
    "\n",
    "\t\twhile queue:\n",
    "\t\t\ts = queue.pop(0)\n",
    "\t\t\tprint(s, end=\" \")\n",
    "\t\t\tfor i in self.graph[s]:\n",
    "\t\t\t\tif visited[i] == False:\n",
    "\t\t\t\t\tqueue.append(i)\n",
    "\t\t\t\t\tvisited[i] = True"
   ]
  },
  {
   "cell_type": "code",
   "execution_count": 3,
   "metadata": {},
   "outputs": [
    {
     "name": "stdout",
     "output_type": "stream",
     "text": [
      "Following is Breadth First Traversal (starting from vertex 2)\n",
      "2 0 3 1 "
     ]
    }
   ],
   "source": [
    "g = Graph()\n",
    "g.addEdge(0, 1)\n",
    "g.addEdge(0, 2)\n",
    "g.addEdge(1, 2)\n",
    "g.addEdge(2, 0)\n",
    "g.addEdge(2, 3)\n",
    "g.addEdge(3, 3)\n",
    "\n",
    "print(\"Following is Breadth First Traversal\"\n",
    "    \" (starting from vertex 2)\")\n",
    "g.BFS(2)"
   ]
  },
  {
   "cell_type": "code",
   "execution_count": null,
   "metadata": {},
   "outputs": [],
   "source": []
  }
 ],
 "metadata": {
  "kernelspec": {
   "display_name": "yeardream",
   "language": "python",
   "name": "python3"
  },
  "language_info": {
   "codemirror_mode": {
    "name": "ipython",
    "version": 3
   },
   "file_extension": ".py",
   "mimetype": "text/x-python",
   "name": "python",
   "nbconvert_exporter": "python",
   "pygments_lexer": "ipython3",
   "version": "3.10.9"
  }
 },
 "nbformat": 4,
 "nbformat_minor": 2
}
